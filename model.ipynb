{
 "cells": [
  {
   "cell_type": "code",
   "execution_count": null,
   "id": "d6b488e3",
   "metadata": {},
   "outputs": [
    {
     "name": "stdout",
     "output_type": "stream",
     "text": [
      "Collecting numpy (from -r requirements.txt (line 1))\n",
      "  Downloading numpy-2.3.3-cp312-cp312-win_amd64.whl.metadata (60 kB)\n",
      "Collecting pandas (from -r requirements.txt (line 2))\n",
      "  Downloading pandas-2.3.2-cp312-cp312-win_amd64.whl.metadata (19 kB)\n",
      "Collecting matplotlib (from -r requirements.txt (line 3))\n",
      "  Downloading matplotlib-3.10.6-cp312-cp312-win_amd64.whl.metadata (11 kB)\n",
      "Collecting seaborn (from -r requirements.txt (line 4))\n",
      "  Downloading seaborn-0.13.2-py3-none-any.whl.metadata (5.4 kB)\n",
      "Collecting scikit-learn (from -r requirements.txt (line 5))\n",
      "  Downloading scikit_learn-1.7.2-cp312-cp312-win_amd64.whl.metadata (11 kB)\n",
      "Requirement already satisfied: python-dateutil>=2.8.2 in c:\\scripts\\git\\stock_anaylsis_2025\\.venv\\lib\\site-packages (from pandas->-r requirements.txt (line 2)) (2.9.0.post0)\n",
      "Collecting pytz>=2020.1 (from pandas->-r requirements.txt (line 2))\n",
      "  Downloading pytz-2025.2-py2.py3-none-any.whl.metadata (22 kB)\n",
      "Collecting tzdata>=2022.7 (from pandas->-r requirements.txt (line 2))\n",
      "  Downloading tzdata-2025.2-py2.py3-none-any.whl.metadata (1.4 kB)\n",
      "Collecting contourpy>=1.0.1 (from matplotlib->-r requirements.txt (line 3))\n",
      "  Downloading contourpy-1.3.3-cp312-cp312-win_amd64.whl.metadata (5.5 kB)\n",
      "Collecting cycler>=0.10 (from matplotlib->-r requirements.txt (line 3))\n",
      "  Using cached cycler-0.12.1-py3-none-any.whl.metadata (3.8 kB)\n",
      "Collecting fonttools>=4.22.0 (from matplotlib->-r requirements.txt (line 3))\n",
      "  Downloading fonttools-4.59.2-cp312-cp312-win_amd64.whl.metadata (111 kB)\n",
      "Collecting kiwisolver>=1.3.1 (from matplotlib->-r requirements.txt (line 3))\n",
      "  Downloading kiwisolver-1.4.9-cp312-cp312-win_amd64.whl.metadata (6.4 kB)\n",
      "Requirement already satisfied: packaging>=20.0 in c:\\scripts\\git\\stock_anaylsis_2025\\.venv\\lib\\site-packages (from matplotlib->-r requirements.txt (line 3)) (25.0)\n",
      "Collecting pillow>=8 (from matplotlib->-r requirements.txt (line 3))\n",
      "  Downloading pillow-11.3.0-cp312-cp312-win_amd64.whl.metadata (9.2 kB)\n",
      "Collecting pyparsing>=2.3.1 (from matplotlib->-r requirements.txt (line 3))\n",
      "  Downloading pyparsing-3.2.3-py3-none-any.whl.metadata (5.0 kB)\n",
      "Collecting scipy>=1.8.0 (from scikit-learn->-r requirements.txt (line 5))\n",
      "  Downloading scipy-1.16.1-cp312-cp312-win_amd64.whl.metadata (60 kB)\n",
      "Collecting joblib>=1.2.0 (from scikit-learn->-r requirements.txt (line 5))\n",
      "  Downloading joblib-1.5.2-py3-none-any.whl.metadata (5.6 kB)\n",
      "Collecting threadpoolctl>=3.1.0 (from scikit-learn->-r requirements.txt (line 5))\n",
      "  Downloading threadpoolctl-3.6.0-py3-none-any.whl.metadata (13 kB)\n",
      "Requirement already satisfied: six>=1.5 in c:\\scripts\\git\\stock_anaylsis_2025\\.venv\\lib\\site-packages (from python-dateutil>=2.8.2->pandas->-r requirements.txt (line 2)) (1.17.0)\n",
      "Downloading numpy-2.3.3-cp312-cp312-win_amd64.whl (12.8 MB)\n",
      "   ---------------------------------------- 0.0/12.8 MB ? eta -:--:--\n",
      "   ----------- ---------------------------- 3.7/12.8 MB 19.8 MB/s eta 0:00:01\n",
      "   ------------------------ --------------- 7.9/12.8 MB 20.3 MB/s eta 0:00:01\n",
      "   ------------------------------------ --- 11.8/12.8 MB 19.4 MB/s eta 0:00:01\n",
      "   ---------------------------------------- 12.8/12.8 MB 18.2 MB/s eta 0:00:00\n",
      "Downloading pandas-2.3.2-cp312-cp312-win_amd64.whl (11.0 MB)\n",
      "   ---------------------------------------- 0.0/11.0 MB ? eta -:--:--\n",
      "   --------------- ------------------------ 4.2/11.0 MB 21.0 MB/s eta 0:00:01\n",
      "   ----------------------------- ---------- 8.1/11.0 MB 20.2 MB/s eta 0:00:01\n",
      "   ---------------------------------------- 11.0/11.0 MB 19.6 MB/s eta 0:00:00\n",
      "Downloading matplotlib-3.10.6-cp312-cp312-win_amd64.whl (8.1 MB)\n",
      "   ---------------------------------------- 0.0/8.1 MB ? eta -:--:--\n",
      "   -------------------- ------------------- 4.2/8.1 MB 19.4 MB/s eta 0:00:01\n",
      "   -------------------------------------- - 7.9/8.1 MB 19.4 MB/s eta 0:00:01\n",
      "   ---------------------------------------- 8.1/8.1 MB 18.0 MB/s eta 0:00:00\n",
      "Downloading seaborn-0.13.2-py3-none-any.whl (294 kB)\n",
      "Downloading scikit_learn-1.7.2-cp312-cp312-win_amd64.whl (8.7 MB)\n",
      "   ---------------------------------------- 0.0/8.7 MB ? eta -:--:--\n",
      "   ------------------- -------------------- 4.2/8.7 MB 18.0 MB/s eta 0:00:01\n",
      "   -------------------------------------- - 8.4/8.7 MB 19.3 MB/s eta 0:00:01\n",
      "   ---------------------------------------- 8.7/8.7 MB 18.1 MB/s eta 0:00:00\n",
      "Downloading contourpy-1.3.3-cp312-cp312-win_amd64.whl (226 kB)\n",
      "Using cached cycler-0.12.1-py3-none-any.whl (8.3 kB)\n",
      "Downloading fonttools-4.59.2-cp312-cp312-win_amd64.whl (2.3 MB)\n",
      "   ---------------------------------------- 0.0/2.3 MB ? eta -:--:--\n",
      "   ---------------------------------------- 2.3/2.3 MB 15.9 MB/s eta 0:00:00\n",
      "Downloading joblib-1.5.2-py3-none-any.whl (308 kB)\n",
      "Downloading kiwisolver-1.4.9-cp312-cp312-win_amd64.whl (73 kB)\n",
      "Downloading pillow-11.3.0-cp312-cp312-win_amd64.whl (7.0 MB)\n",
      "   ---------------------------------------- 0.0/7.0 MB ? eta -:--:--\n",
      "   ---------------------- ----------------- 3.9/7.0 MB 19.5 MB/s eta 0:00:01\n",
      "   ---------------------------------------- 7.0/7.0 MB 17.9 MB/s eta 0:00:00\n",
      "Downloading pyparsing-3.2.3-py3-none-any.whl (111 kB)\n",
      "Downloading pytz-2025.2-py2.py3-none-any.whl (509 kB)\n",
      "Downloading scipy-1.16.1-cp312-cp312-win_amd64.whl (38.5 MB)\n",
      "   ---------------------------------------- 0.0/38.5 MB ? eta -:--:--\n",
      "   ---- ----------------------------------- 3.9/38.5 MB 19.6 MB/s eta 0:00:02\n",
      "   ------ --------------------------------- 6.0/38.5 MB 14.8 MB/s eta 0:00:03\n",
      "   ---------- ----------------------------- 10.5/38.5 MB 16.8 MB/s eta 0:00:02\n",
      "   --------------- ------------------------ 14.7/38.5 MB 17.8 MB/s eta 0:00:02\n",
      "   ------------------- -------------------- 19.1/38.5 MB 18.0 MB/s eta 0:00:02\n",
      "   ------------------------ --------------- 23.3/38.5 MB 18.5 MB/s eta 0:00:01\n",
      "   ---------------------------- ----------- 27.8/38.5 MB 18.5 MB/s eta 0:00:01\n",
      "   --------------------------------- ------ 32.0/38.5 MB 18.8 MB/s eta 0:00:01\n",
      "   ------------------------------------- -- 36.2/38.5 MB 19.0 MB/s eta 0:00:01\n",
      "   ---------------------------------------- 38.5/38.5 MB 18.1 MB/s eta 0:00:00\n",
      "Downloading threadpoolctl-3.6.0-py3-none-any.whl (18 kB)\n",
      "Downloading tzdata-2025.2-py2.py3-none-any.whl (347 kB)\n",
      "Installing collected packages: pytz, tzdata, threadpoolctl, pyparsing, pillow, numpy, kiwisolver, joblib, fonttools, cycler, scipy, pandas, contourpy, scikit-learn, matplotlib, seaborn\n",
      "Successfully installed contourpy-1.3.3 cycler-0.12.1 fonttools-4.59.2 joblib-1.5.2 kiwisolver-1.4.9 matplotlib-3.10.6 numpy-2.3.3 pandas-2.3.2 pillow-11.3.0 pyparsing-3.2.3 pytz-2025.2 scikit-learn-1.7.2 scipy-1.16.1 seaborn-0.13.2 threadpoolctl-3.6.0 tzdata-2025.2\n"
     ]
    },
    {
     "name": "stderr",
     "output_type": "stream",
     "text": [
      "\n",
      "[notice] A new release of pip is available: 25.0.1 -> 25.2\n",
      "[notice] To update, run: python.exe -m pip install --upgrade pip\n"
     ]
    }
   ],
   "source": [
    "# This script installs the required Python packages listed in requirements.txt\n",
    "#!pip install -r requirements.txt\n"
   ]
  },
  {
   "cell_type": "code",
   "execution_count": 7,
   "id": "cd163859",
   "metadata": {},
   "outputs": [],
   "source": [
    "import pandas as pd\n",
    "import numpy as np\n",
    "\n",
    "from datetime import datetime\n",
    "\n",
    "import matplotlib.pyplot as plt\n",
    "import seaborn as sns\n"
   ]
  },
  {
   "cell_type": "code",
   "execution_count": 14,
   "id": "bdf71ea4",
   "metadata": {},
   "outputs": [],
   "source": [
    "df_raw = pd.read_csv('all_data_raw.csv', parse_dates=['date'])"
   ]
  },
  {
   "cell_type": "code",
   "execution_count": 12,
   "id": "45de8edc",
   "metadata": {},
   "outputs": [
    {
     "data": {
      "text/plain": [
       "Index(['close_crypto', 'volume_crypto', 'ticker_crypto', 'ln_volume_crypto',\n",
       "       'daily_growth_crypto', 'weekly_growth_crypto', 'monthly_growth_crypto',\n",
       "       'vol_weekly_crypto', 'momentum_weekly_crypto', 'ma_20_crypto',\n",
       "       'ma_50_crypto', 'ma_100_crypto', 'year_crypto', 'quarter_crypto',\n",
       "       'quarter_end', 'close_stock', 'volume_stock', 'ticker_stock',\n",
       "       'ln_volume_stock', 'daily_growth_stock', 'weekly_growth_stock',\n",
       "       'monthly_growth_stock', 'vol_weekly_stock', 'momentum_weekly_stock',\n",
       "       'ma_20_stock', 'ma_50_stock', 'ma_100_stock', 'year_stock',\n",
       "       'quarter_stock', 'gdp_us', 'gdp_us_yoy', 'gdp_us_qoq', 'cpi_us',\n",
       "       'cpi_us_yoy', 'cpi_us_qoq', 'unemployment_us', 'unemployment_us_yoy',\n",
       "       'unemployment_us_qoq', 'interest_us', 'interest_us_yoy',\n",
       "       'interest_us_qoq', 'gdp_de', 'gdp_de_yoy', 'gdp_de_qoq', 'cpi_de',\n",
       "       'cpi_de_yoy', 'cpi_de_qoq', 'interest_eu', 'interest_eu_yoy',\n",
       "       'interest_eu_qoq', 'year', 'quarter'],\n",
       "      dtype='object')"
      ]
     },
     "execution_count": 12,
     "metadata": {},
     "output_type": "execute_result"
    }
   ],
   "source": [
    "df_raw.columns"
   ]
  },
  {
   "cell_type": "code",
   "execution_count": 18,
   "id": "c75b00da",
   "metadata": {},
   "outputs": [],
   "source": [
    "df = df_raw.ffill().bfill()"
   ]
  },
  {
   "cell_type": "code",
   "execution_count": 20,
   "id": "19ba6c61",
   "metadata": {},
   "outputs": [
    {
     "name": "stdout",
     "output_type": "stream",
     "text": [
      "<class 'pandas.core.frame.DataFrame'>\n",
      "RangeIndex: 22455 entries, 0 to 22454\n",
      "Data columns (total 53 columns):\n",
      " #   Column                  Non-Null Count  Dtype         \n",
      "---  ------                  --------------  -----         \n",
      " 0   date                    22455 non-null  datetime64[ns]\n",
      " 1   close_crypto            22455 non-null  float64       \n",
      " 2   volume_crypto           22455 non-null  float64       \n",
      " 3   ticker_crypto           22455 non-null  object        \n",
      " 4   ln_volume_crypto        22455 non-null  float64       \n",
      " 5   daily_growth_crypto     22455 non-null  float64       \n",
      " 6   weekly_growth_crypto    22455 non-null  float64       \n",
      " 7   monthly_growth_crypto   22455 non-null  float64       \n",
      " 8   vol_weekly_crypto       22455 non-null  float64       \n",
      " 9   momentum_weekly_crypto  22455 non-null  float64       \n",
      " 10  ma_20_crypto            22455 non-null  float64       \n",
      " 11  ma_50_crypto            22455 non-null  float64       \n",
      " 12  ma_100_crypto           22455 non-null  float64       \n",
      " 13  year_crypto             22455 non-null  int64         \n",
      " 14  quarter_crypto          22455 non-null  int64         \n",
      " 15  quarter_end             22455 non-null  object        \n",
      " 16  close_stock             22455 non-null  float64       \n",
      " 17  volume_stock            22455 non-null  float64       \n",
      " 18  ticker_stock            22455 non-null  object        \n",
      " 19  ln_volume_stock         22455 non-null  float64       \n",
      " 20  daily_growth_stock      22455 non-null  float64       \n",
      " 21  weekly_growth_stock     22455 non-null  float64       \n",
      " 22  monthly_growth_stock    22455 non-null  float64       \n",
      " 23  vol_weekly_stock        22455 non-null  float64       \n",
      " 24  momentum_weekly_stock   22455 non-null  float64       \n",
      " 25  ma_20_stock             22455 non-null  float64       \n",
      " 26  ma_50_stock             22455 non-null  float64       \n",
      " 27  ma_100_stock            22455 non-null  float64       \n",
      " 28  year_stock              22455 non-null  float64       \n",
      " 29  quarter_stock           22455 non-null  float64       \n",
      " 30  gdp_us                  22455 non-null  float64       \n",
      " 31  gdp_us_yoy              22455 non-null  float64       \n",
      " 32  gdp_us_qoq              22455 non-null  float64       \n",
      " 33  cpi_us                  22455 non-null  float64       \n",
      " 34  cpi_us_yoy              22455 non-null  float64       \n",
      " 35  cpi_us_qoq              22455 non-null  float64       \n",
      " 36  unemployment_us         22455 non-null  float64       \n",
      " 37  unemployment_us_yoy     22455 non-null  float64       \n",
      " 38  unemployment_us_qoq     22455 non-null  float64       \n",
      " 39  interest_us             22455 non-null  float64       \n",
      " 40  interest_us_yoy         22455 non-null  float64       \n",
      " 41  interest_us_qoq         22455 non-null  float64       \n",
      " 42  gdp_de                  22455 non-null  float64       \n",
      " 43  gdp_de_yoy              22455 non-null  float64       \n",
      " 44  gdp_de_qoq              22455 non-null  float64       \n",
      " 45  cpi_de                  22455 non-null  float64       \n",
      " 46  cpi_de_yoy              22455 non-null  float64       \n",
      " 47  cpi_de_qoq              22455 non-null  float64       \n",
      " 48  interest_eu             22455 non-null  float64       \n",
      " 49  interest_eu_yoy         22455 non-null  float64       \n",
      " 50  interest_eu_qoq         22455 non-null  float64       \n",
      " 51  year                    22455 non-null  int64         \n",
      " 52  quarter                 22455 non-null  int64         \n",
      "dtypes: datetime64[ns](1), float64(45), int64(4), object(3)\n",
      "memory usage: 9.1+ MB\n"
     ]
    }
   ],
   "source": [
    "df.info()"
   ]
  },
  {
   "cell_type": "code",
   "execution_count": 22,
   "id": "ec4ad04d",
   "metadata": {},
   "outputs": [],
   "source": [
    "df['weekly_growth_stock'] = df['close_stock'].shift(-30) / df['close_stock']\n",
    "# FUTURE Growth: for binary models\n",
    "df['positive_growth_10_weekly_future'] = np.where(df['weekly_growth_stock'] > 1.1, 1, 0)"
   ]
  },
  {
   "cell_type": "code",
   "execution_count": null,
   "id": "80ef7858",
   "metadata": {},
   "outputs": [
    {
     "data": {
      "text/plain": [
       "positive_growth_10_weekly_future\n",
       "1    12949\n",
       "0     9506\n",
       "Name: count, dtype: int64"
      ]
     },
     "execution_count": 25,
     "metadata": {},
     "output_type": "execute_result"
    }
   ],
   "source": [
    "df['positive_growth_10_weekly_future'].value_counts()"
   ]
  },
  {
   "cell_type": "code",
   "execution_count": 21,
   "id": "20efd71c",
   "metadata": {},
   "outputs": [
    {
     "data": {
      "text/plain": [
       "0        0.221156\n",
       "1        0.221156\n",
       "2        0.221156\n",
       "3        0.221156\n",
       "4        0.221156\n",
       "           ...   \n",
       "22450   -0.002107\n",
       "22451    0.018319\n",
       "22452    0.018319\n",
       "22453    0.018319\n",
       "22454    0.018319\n",
       "Name: weekly_growth_stock, Length: 22455, dtype: float64"
      ]
     },
     "execution_count": 21,
     "metadata": {},
     "output_type": "execute_result"
    }
   ],
   "source": [
    "df['weekly_growth_stock']"
   ]
  },
  {
   "cell_type": "code",
   "execution_count": 26,
   "id": "be9b3ba5",
   "metadata": {},
   "outputs": [],
   "source": [
    "TO_PREDICT = 'positive_growth_10_weekly_future'\n",
    "CATEGORICAL_COLUMNS = ['ticker_crypto', 'ticker_stock']\n",
    "TO_DROP = ['date', 'close_crypto', 'volume_crypto', 'close_stock', 'volume_stock', 'year', 'quarter', \n",
    "           'quarter_end', 'weekly_growth_stock'] + CATEGORICAL_COLUMNS"
   ]
  },
  {
   "cell_type": "code",
   "execution_count": null,
   "id": "3c6ba81b",
   "metadata": {},
   "outputs": [],
   "source": []
  },
  {
   "cell_type": "code",
   "execution_count": null,
   "id": "9e2a288a",
   "metadata": {},
   "outputs": [],
   "source": []
  },
  {
   "cell_type": "code",
   "execution_count": null,
   "id": "a512ed81",
   "metadata": {},
   "outputs": [],
   "source": []
  }
 ],
 "metadata": {
  "kernelspec": {
   "display_name": ".venv (3.12.10)",
   "language": "python",
   "name": "python3"
  },
  "language_info": {
   "codemirror_mode": {
    "name": "ipython",
    "version": 3
   },
   "file_extension": ".py",
   "mimetype": "text/x-python",
   "name": "python",
   "nbconvert_exporter": "python",
   "pygments_lexer": "ipython3",
   "version": "3.12.10"
  }
 },
 "nbformat": 4,
 "nbformat_minor": 5
}
