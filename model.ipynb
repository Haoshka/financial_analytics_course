{
 "cells": [
  {
   "cell_type": "code",
   "execution_count": 33,
   "id": "d6b488e3",
   "metadata": {},
   "outputs": [],
   "source": [
    "# This script installs the required Python packages listed in requirements.txt\n",
    "#!pip install -r requirements.txt\n"
   ]
  },
  {
   "cell_type": "code",
   "execution_count": 34,
   "id": "cd163859",
   "metadata": {},
   "outputs": [],
   "source": [
    "import pandas as pd\n",
    "import numpy as np\n",
    "\n",
    "from datetime import datetime\n",
    "\n",
    "import matplotlib.pyplot as plt\n",
    "import seaborn as sns\n"
   ]
  },
  {
   "cell_type": "code",
   "execution_count": 56,
   "id": "bdf71ea4",
   "metadata": {},
   "outputs": [],
   "source": [
    "df_raw = pd.read_csv('all_data_raw.csv', parse_dates=['date'])"
   ]
  },
  {
   "cell_type": "code",
   "execution_count": 57,
   "id": "45de8edc",
   "metadata": {},
   "outputs": [
    {
     "data": {
      "text/plain": [
       "Index(['date', 'close_crypto', 'volume_crypto', 'ticker_crypto',\n",
       "       'ln_volume_crypto', 'daily_growth_crypto', 'weekly_growth_crypto',\n",
       "       'monthly_growth_crypto', 'vol_weekly_crypto', 'momentum_weekly_crypto',\n",
       "       'ma_20_crypto', 'ma_50_crypto', 'ma_100_crypto', 'year', 'quarter',\n",
       "       'quarter_end', 'close_stock', 'volume_stock', 'ticker_stock',\n",
       "       'ln_volume_stock', 'daily_growth_stock', 'weekly_growth_stock',\n",
       "       'monthly_growth_stock', 'vol_weekly_stock', 'momentum_weekly_stock',\n",
       "       'ma_20_stock', 'ma_50_stock', 'ma_100_stock', 'positive_weekly_growth',\n",
       "       'gdp_us', 'gdp_us_yoy', 'gdp_us_qoq', 'cpi_us', 'cpi_us_yoy',\n",
       "       'cpi_us_qoq', 'unemployment_us', 'unemployment_us_yoy',\n",
       "       'unemployment_us_qoq', 'interest_us', 'interest_us_yoy',\n",
       "       'interest_us_qoq', 'gdp_de', 'gdp_de_yoy', 'gdp_de_qoq', 'cpi_de',\n",
       "       'cpi_de_yoy', 'cpi_de_qoq', 'interest_eu', 'interest_eu_yoy',\n",
       "       'interest_eu_qoq'],\n",
       "      dtype='object')"
      ]
     },
     "execution_count": 57,
     "metadata": {},
     "output_type": "execute_result"
    }
   ],
   "source": [
    "df_raw.columns"
   ]
  },
  {
   "cell_type": "code",
   "execution_count": 58,
   "id": "c75b00da",
   "metadata": {},
   "outputs": [],
   "source": [
    "df = df_raw.ffill().bfill()"
   ]
  },
  {
   "cell_type": "code",
   "execution_count": 59,
   "id": "19ba6c61",
   "metadata": {},
   "outputs": [
    {
     "name": "stdout",
     "output_type": "stream",
     "text": [
      "<class 'pandas.core.frame.DataFrame'>\n",
      "RangeIndex: 22455 entries, 0 to 22454\n",
      "Data columns (total 50 columns):\n",
      " #   Column                  Non-Null Count  Dtype         \n",
      "---  ------                  --------------  -----         \n",
      " 0   date                    22455 non-null  datetime64[ns]\n",
      " 1   close_crypto            22455 non-null  float64       \n",
      " 2   volume_crypto           22455 non-null  float64       \n",
      " 3   ticker_crypto           22455 non-null  object        \n",
      " 4   ln_volume_crypto        22455 non-null  float64       \n",
      " 5   daily_growth_crypto     22455 non-null  float64       \n",
      " 6   weekly_growth_crypto    22455 non-null  float64       \n",
      " 7   monthly_growth_crypto   22455 non-null  float64       \n",
      " 8   vol_weekly_crypto       22455 non-null  float64       \n",
      " 9   momentum_weekly_crypto  22455 non-null  float64       \n",
      " 10  ma_20_crypto            22455 non-null  float64       \n",
      " 11  ma_50_crypto            22455 non-null  float64       \n",
      " 12  ma_100_crypto           22455 non-null  float64       \n",
      " 13  year                    22455 non-null  int64         \n",
      " 14  quarter                 22455 non-null  int64         \n",
      " 15  quarter_end             22455 non-null  object        \n",
      " 16  close_stock             22455 non-null  float64       \n",
      " 17  volume_stock            22455 non-null  float64       \n",
      " 18  ticker_stock            22455 non-null  object        \n",
      " 19  ln_volume_stock         22455 non-null  float64       \n",
      " 20  daily_growth_stock      22455 non-null  float64       \n",
      " 21  weekly_growth_stock     22455 non-null  float64       \n",
      " 22  monthly_growth_stock    22455 non-null  float64       \n",
      " 23  vol_weekly_stock        22455 non-null  float64       \n",
      " 24  momentum_weekly_stock   22455 non-null  float64       \n",
      " 25  ma_20_stock             22455 non-null  float64       \n",
      " 26  ma_50_stock             22455 non-null  float64       \n",
      " 27  ma_100_stock            22455 non-null  float64       \n",
      " 28  positive_weekly_growth  22455 non-null  float64       \n",
      " 29  gdp_us                  22455 non-null  float64       \n",
      " 30  gdp_us_yoy              22455 non-null  float64       \n",
      " 31  gdp_us_qoq              22455 non-null  float64       \n",
      " 32  cpi_us                  22455 non-null  float64       \n",
      " 33  cpi_us_yoy              22455 non-null  float64       \n",
      " 34  cpi_us_qoq              22455 non-null  float64       \n",
      " 35  unemployment_us         22455 non-null  float64       \n",
      " 36  unemployment_us_yoy     22455 non-null  float64       \n",
      " 37  unemployment_us_qoq     22455 non-null  float64       \n",
      " 38  interest_us             22455 non-null  float64       \n",
      " 39  interest_us_yoy         22455 non-null  float64       \n",
      " 40  interest_us_qoq         22455 non-null  float64       \n",
      " 41  gdp_de                  22455 non-null  float64       \n",
      " 42  gdp_de_yoy              22455 non-null  float64       \n",
      " 43  gdp_de_qoq              22455 non-null  float64       \n",
      " 44  cpi_de                  22455 non-null  float64       \n",
      " 45  cpi_de_yoy              22455 non-null  float64       \n",
      " 46  cpi_de_qoq              22455 non-null  float64       \n",
      " 47  interest_eu             22455 non-null  float64       \n",
      " 48  interest_eu_yoy         22455 non-null  float64       \n",
      " 49  interest_eu_qoq         22455 non-null  float64       \n",
      "dtypes: datetime64[ns](1), float64(44), int64(2), object(3)\n",
      "memory usage: 8.6+ MB\n"
     ]
    }
   ],
   "source": [
    "df.info()"
   ]
  },
  {
   "cell_type": "code",
   "execution_count": 60,
   "id": "80ef7858",
   "metadata": {},
   "outputs": [
    {
     "data": {
      "text/plain": [
       "positive_weekly_growth\n",
       "0.0    11553\n",
       "1.0    10902\n",
       "Name: count, dtype: int64"
      ]
     },
     "execution_count": 60,
     "metadata": {},
     "output_type": "execute_result"
    }
   ],
   "source": [
    "df['positive_weekly_growth'].value_counts()"
   ]
  },
  {
   "cell_type": "code",
   "execution_count": 66,
   "id": "be9b3ba5",
   "metadata": {},
   "outputs": [],
   "source": [
    "TO_PREDICT = ['positive_weekly_growth']\n",
    "CATEGORICAL = ['ticker_crypto', 'ticker_stock']\n",
    "TO_DROP = ['date', 'close_crypto', 'volume_crypto', 'close_stock', 'volume_stock', 'year', 'quarter', \n",
    "           'quarter_end'] + CATEGORICAL"
   ]
  },
  {
   "cell_type": "code",
   "execution_count": 67,
   "id": "6d95084a",
   "metadata": {},
   "outputs": [],
   "source": [
    "#df[df[\"ticker_stock\"] == \"MARA\"].head(10).T"
   ]
  },
  {
   "cell_type": "code",
   "execution_count": 68,
   "id": "3c6ba81b",
   "metadata": {},
   "outputs": [],
   "source": [
    "#get dummy variables\n",
    "dummy_variables = pd.get_dummies(df[CATEGORICAL], dtype='int32')\n",
    "df_with_dummies = pd.concat([df, dummy_variables], axis=1)"
   ]
  },
  {
   "cell_type": "code",
   "execution_count": 69,
   "id": "9e2a288a",
   "metadata": {},
   "outputs": [
    {
     "data": {
      "text/html": [
       "<div>\n",
       "<style scoped>\n",
       "    .dataframe tbody tr th:only-of-type {\n",
       "        vertical-align: middle;\n",
       "    }\n",
       "\n",
       "    .dataframe tbody tr th {\n",
       "        vertical-align: top;\n",
       "    }\n",
       "\n",
       "    .dataframe thead th {\n",
       "        text-align: right;\n",
       "    }\n",
       "</style>\n",
       "<table border=\"1\" class=\"dataframe\">\n",
       "  <thead>\n",
       "    <tr style=\"text-align: right;\">\n",
       "      <th></th>\n",
       "      <th>positive_weekly_growth</th>\n",
       "    </tr>\n",
       "  </thead>\n",
       "  <tbody>\n",
       "    <tr>\n",
       "      <th>positive_weekly_growth</th>\n",
       "      <td>1.000000</td>\n",
       "    </tr>\n",
       "    <tr>\n",
       "      <th>weekly_growth_stock</th>\n",
       "      <td>0.719667</td>\n",
       "    </tr>\n",
       "    <tr>\n",
       "      <th>monthly_growth_stock</th>\n",
       "      <td>0.320195</td>\n",
       "    </tr>\n",
       "    <tr>\n",
       "      <th>weekly_growth_crypto</th>\n",
       "      <td>0.318761</td>\n",
       "    </tr>\n",
       "    <tr>\n",
       "      <th>daily_growth_stock</th>\n",
       "      <td>0.279871</td>\n",
       "    </tr>\n",
       "    <tr>\n",
       "      <th>vol_weekly_stock</th>\n",
       "      <td>0.169336</td>\n",
       "    </tr>\n",
       "    <tr>\n",
       "      <th>daily_growth_crypto</th>\n",
       "      <td>0.149712</td>\n",
       "    </tr>\n",
       "    <tr>\n",
       "      <th>monthly_growth_crypto</th>\n",
       "      <td>0.142490</td>\n",
       "    </tr>\n",
       "    <tr>\n",
       "      <th>interest_us</th>\n",
       "      <td>0.068878</td>\n",
       "    </tr>\n",
       "    <tr>\n",
       "      <th>ln_volume_stock</th>\n",
       "      <td>0.061768</td>\n",
       "    </tr>\n",
       "    <tr>\n",
       "      <th>momentum_weekly_stock</th>\n",
       "      <td>0.059952</td>\n",
       "    </tr>\n",
       "    <tr>\n",
       "      <th>gdp_us</th>\n",
       "      <td>0.059493</td>\n",
       "    </tr>\n",
       "    <tr>\n",
       "      <th>cpi_de</th>\n",
       "      <td>0.054075</td>\n",
       "    </tr>\n",
       "    <tr>\n",
       "      <th>momentum_weekly_crypto</th>\n",
       "      <td>0.052487</td>\n",
       "    </tr>\n",
       "    <tr>\n",
       "      <th>gdp_us_qoq</th>\n",
       "      <td>0.051215</td>\n",
       "    </tr>\n",
       "    <tr>\n",
       "      <th>cpi_us</th>\n",
       "      <td>0.042689</td>\n",
       "    </tr>\n",
       "    <tr>\n",
       "      <th>cpi_de_qoq</th>\n",
       "      <td>0.040489</td>\n",
       "    </tr>\n",
       "    <tr>\n",
       "      <th>unemployment_us_yoy</th>\n",
       "      <td>0.029844</td>\n",
       "    </tr>\n",
       "    <tr>\n",
       "      <th>ticker_stock_MSTR</th>\n",
       "      <td>0.029047</td>\n",
       "    </tr>\n",
       "    <tr>\n",
       "      <th>ticker_stock_WULF</th>\n",
       "      <td>0.024671</td>\n",
       "    </tr>\n",
       "    <tr>\n",
       "      <th>interest_eu</th>\n",
       "      <td>0.017574</td>\n",
       "    </tr>\n",
       "    <tr>\n",
       "      <th>gdp_us_yoy</th>\n",
       "      <td>0.011480</td>\n",
       "    </tr>\n",
       "    <tr>\n",
       "      <th>unemployment_us</th>\n",
       "      <td>0.001082</td>\n",
       "    </tr>\n",
       "    <tr>\n",
       "      <th>ticker_crypto_SOL/USDT</th>\n",
       "      <td>0.000189</td>\n",
       "    </tr>\n",
       "    <tr>\n",
       "      <th>ticker_crypto_ETH/USDT</th>\n",
       "      <td>0.000189</td>\n",
       "    </tr>\n",
       "    <tr>\n",
       "      <th>ticker_crypto_BTC/USDT</th>\n",
       "      <td>-0.000378</td>\n",
       "    </tr>\n",
       "    <tr>\n",
       "      <th>ma_50_crypto</th>\n",
       "      <td>-0.002321</td>\n",
       "    </tr>\n",
       "    <tr>\n",
       "      <th>ticker_stock_RIOT</th>\n",
       "      <td>-0.002974</td>\n",
       "    </tr>\n",
       "    <tr>\n",
       "      <th>ln_volume_crypto</th>\n",
       "      <td>-0.003203</td>\n",
       "    </tr>\n",
       "    <tr>\n",
       "      <th>unemployment_us_qoq</th>\n",
       "      <td>-0.003846</td>\n",
       "    </tr>\n",
       "    <tr>\n",
       "      <th>ma_100_crypto</th>\n",
       "      <td>-0.003899</td>\n",
       "    </tr>\n",
       "    <tr>\n",
       "      <th>ticker_stock_COIN</th>\n",
       "      <td>-0.004181</td>\n",
       "    </tr>\n",
       "    <tr>\n",
       "      <th>ma_20_crypto</th>\n",
       "      <td>-0.004503</td>\n",
       "    </tr>\n",
       "    <tr>\n",
       "      <th>ma_100_stock</th>\n",
       "      <td>-0.005538</td>\n",
       "    </tr>\n",
       "    <tr>\n",
       "      <th>ma_20_stock</th>\n",
       "      <td>-0.007544</td>\n",
       "    </tr>\n",
       "    <tr>\n",
       "      <th>ma_50_stock</th>\n",
       "      <td>-0.010532</td>\n",
       "    </tr>\n",
       "    <tr>\n",
       "      <th>ticker_stock_MARA</th>\n",
       "      <td>-0.014751</td>\n",
       "    </tr>\n",
       "    <tr>\n",
       "      <th>gdp_de_yoy</th>\n",
       "      <td>-0.025281</td>\n",
       "    </tr>\n",
       "    <tr>\n",
       "      <th>gdp_de_qoq</th>\n",
       "      <td>-0.028351</td>\n",
       "    </tr>\n",
       "    <tr>\n",
       "      <th>interest_eu_yoy</th>\n",
       "      <td>-0.034755</td>\n",
       "    </tr>\n",
       "    <tr>\n",
       "      <th>ticker_stock_CLSK</th>\n",
       "      <td>-0.035753</td>\n",
       "    </tr>\n",
       "    <tr>\n",
       "      <th>gdp_de</th>\n",
       "      <td>-0.037691</td>\n",
       "    </tr>\n",
       "    <tr>\n",
       "      <th>vol_weekly_crypto</th>\n",
       "      <td>-0.041255</td>\n",
       "    </tr>\n",
       "    <tr>\n",
       "      <th>interest_eu_qoq</th>\n",
       "      <td>-0.042152</td>\n",
       "    </tr>\n",
       "    <tr>\n",
       "      <th>interest_us_qoq</th>\n",
       "      <td>-0.061215</td>\n",
       "    </tr>\n",
       "    <tr>\n",
       "      <th>cpi_us_qoq</th>\n",
       "      <td>-0.087555</td>\n",
       "    </tr>\n",
       "    <tr>\n",
       "      <th>cpi_us_yoy</th>\n",
       "      <td>-0.114351</td>\n",
       "    </tr>\n",
       "    <tr>\n",
       "      <th>cpi_de_yoy</th>\n",
       "      <td>-0.126625</td>\n",
       "    </tr>\n",
       "    <tr>\n",
       "      <th>interest_us_yoy</th>\n",
       "      <td>-0.143183</td>\n",
       "    </tr>\n",
       "  </tbody>\n",
       "</table>\n",
       "</div>"
      ],
      "text/plain": [
       "                        positive_weekly_growth\n",
       "positive_weekly_growth                1.000000\n",
       "weekly_growth_stock                   0.719667\n",
       "monthly_growth_stock                  0.320195\n",
       "weekly_growth_crypto                  0.318761\n",
       "daily_growth_stock                    0.279871\n",
       "vol_weekly_stock                      0.169336\n",
       "daily_growth_crypto                   0.149712\n",
       "monthly_growth_crypto                 0.142490\n",
       "interest_us                           0.068878\n",
       "ln_volume_stock                       0.061768\n",
       "momentum_weekly_stock                 0.059952\n",
       "gdp_us                                0.059493\n",
       "cpi_de                                0.054075\n",
       "momentum_weekly_crypto                0.052487\n",
       "gdp_us_qoq                            0.051215\n",
       "cpi_us                                0.042689\n",
       "cpi_de_qoq                            0.040489\n",
       "unemployment_us_yoy                   0.029844\n",
       "ticker_stock_MSTR                     0.029047\n",
       "ticker_stock_WULF                     0.024671\n",
       "interest_eu                           0.017574\n",
       "gdp_us_yoy                            0.011480\n",
       "unemployment_us                       0.001082\n",
       "ticker_crypto_SOL/USDT                0.000189\n",
       "ticker_crypto_ETH/USDT                0.000189\n",
       "ticker_crypto_BTC/USDT               -0.000378\n",
       "ma_50_crypto                         -0.002321\n",
       "ticker_stock_RIOT                    -0.002974\n",
       "ln_volume_crypto                     -0.003203\n",
       "unemployment_us_qoq                  -0.003846\n",
       "ma_100_crypto                        -0.003899\n",
       "ticker_stock_COIN                    -0.004181\n",
       "ma_20_crypto                         -0.004503\n",
       "ma_100_stock                         -0.005538\n",
       "ma_20_stock                          -0.007544\n",
       "ma_50_stock                          -0.010532\n",
       "ticker_stock_MARA                    -0.014751\n",
       "gdp_de_yoy                           -0.025281\n",
       "gdp_de_qoq                           -0.028351\n",
       "interest_eu_yoy                      -0.034755\n",
       "ticker_stock_CLSK                    -0.035753\n",
       "gdp_de                               -0.037691\n",
       "vol_weekly_crypto                    -0.041255\n",
       "interest_eu_qoq                      -0.042152\n",
       "interest_us_qoq                      -0.061215\n",
       "cpi_us_qoq                           -0.087555\n",
       "cpi_us_yoy                           -0.114351\n",
       "cpi_de_yoy                           -0.126625\n",
       "interest_us_yoy                      -0.143183"
      ]
     },
     "execution_count": 69,
     "metadata": {},
     "output_type": "execute_result"
    }
   ],
   "source": [
    "#correlation\n",
    "df_with_dummies.drop(columns = TO_DROP).corr()[TO_PREDICT].sort_values(by=TO_PREDICT, ascending=False)"
   ]
  },
  {
   "cell_type": "code",
   "execution_count": null,
   "id": "a4afe2d8",
   "metadata": {},
   "outputs": [],
   "source": [
    "from sklearn.model_selection import GridSearchCV, TimeSeriesSplit\n",
    "from sklearn.ensemble import RandomForestClassifier\n",
    "from sklearn.metrics import accuracy_score, classification_report, confusion_matrix\n",
    "df_model = df_with_dummies.copy()"
   ]
  },
  {
   "cell_type": "code",
   "execution_count": 72,
   "id": "a512ed81",
   "metadata": {},
   "outputs": [
    {
     "name": "stdout",
     "output_type": "stream",
     "text": [
      "Train: 2021-01-01 → 2024-09-25\n",
      "Test:  2024-09-25 → 2025-09-01\n",
      "Fitting 5 folds for each of 96 candidates, totalling 480 fits\n",
      "\n",
      "Best Parameters: {'max_depth': 15, 'max_features': 'sqrt', 'min_samples_leaf': 2, 'min_samples_split': 2, 'n_estimators': 100}\n",
      "Best CV Score: 0.9997994652406417\n"
     ]
    }
   ],
   "source": [
    "\n",
    "# 1. Sort chronologically\n",
    "df_model = df_model.sort_values(['date']).reset_index(drop=True)\n",
    "\n",
    "# 2. Automatic 80/20 date cutoff\n",
    "\n",
    "start_date = df_model['date'].min()\n",
    "end_date = df_model['date'].max()\n",
    "cutoff_date = start_date + (end_date - start_date) * 0.8\n",
    "\n",
    "print(f\"Train: {start_date.date()} → {cutoff_date.date()}\")\n",
    "print(f\"Test:  {cutoff_date.date()} → {end_date.date()}\")\n",
    "\n",
    "train_df = df_model[df_model['date'] < cutoff_date]\n",
    "test_df  = df_model[df_model['date'] >= cutoff_date]\n",
    "\n",
    "# 3. Features and target\n",
    "X_train = train_df.drop(CATEGORICAL+TO_PREDICT+TO_DROP, axis=1)\n",
    "y_train = train_df['positive_weekly_growth']\n",
    "\n",
    "X_test  = test_df.drop(CATEGORICAL+TO_PREDICT+TO_DROP, axis=1)\n",
    "y_test  = test_df['positive_weekly_growth']\n",
    "\n",
    "# 4. Define model and param grid\n",
    "rf = RandomForestClassifier(random_state=42, n_jobs=-1)\n",
    "\n",
    "param_grid = {\n",
    "    'n_estimators': [100, 200, 300],\n",
    "    'max_depth': [5, 10, 15, None],\n",
    "    'min_samples_split': [2, 5],\n",
    "    'min_samples_leaf': [1, 2],\n",
    "    'max_features': ['sqrt', 'log2']\n",
    "}\n",
    "# 5. TimeSeriesSplit for CV\n",
    "tscv = TimeSeriesSplit(n_splits=5)\n",
    "\n",
    "grid_search = GridSearchCV(\n",
    "    estimator=rf,\n",
    "    param_grid=param_grid,\n",
    "    scoring='accuracy',\n",
    "    cv=tscv,\n",
    "    n_jobs=-1,\n",
    "    verbose=2,\n",
    "    return_train_score=True\n",
    ")\n",
    "\n",
    "grid_search.fit(X_train, y_train)\n",
    "\n",
    "print(\"\\nBest Parameters:\", grid_search.best_params_)\n",
    "print(\"Best CV Score:\", grid_search.best_score_)"
   ]
  },
  {
   "cell_type": "code",
   "execution_count": 73,
   "id": "c4687394",
   "metadata": {},
   "outputs": [
    {
     "name": "stdout",
     "output_type": "stream",
     "text": [
      "\n",
      "Test Accuracy: 1.0\n",
      "\n",
      "Classification Report:\n",
      "               precision    recall  f1-score   support\n",
      "\n",
      "         0.0       1.00      1.00      1.00      2157\n",
      "         1.0       1.00      1.00      1.00      2343\n",
      "\n",
      "    accuracy                           1.00      4500\n",
      "   macro avg       1.00      1.00      1.00      4500\n",
      "weighted avg       1.00      1.00      1.00      4500\n",
      "\n"
     ]
    }
   ],
   "source": [
    "# 6. Train best model and evaluate\n",
    "\n",
    "best_rf = grid_search.best_estimator_\n",
    "best_rf.fit(X_train, y_train)\n",
    "\n",
    "y_pred = best_rf.predict(X_test)\n",
    "\n",
    "print(\"\\nTest Accuracy:\", accuracy_score(y_test, y_pred))\n",
    "print(\"\\nClassification Report:\\n\", classification_report(y_test, y_pred))"
   ]
  },
  {
   "cell_type": "code",
   "execution_count": 74,
   "id": "b73009c9",
   "metadata": {},
   "outputs": [
    {
     "data": {
      "image/png": "[encoded data removed]",
      "text/plain": [
       "<Figure size 640x480 with 2 Axes>"
      ]
     },
     "metadata": {},
     "output_type": "display_data"
    }
   ],
   "source": [
    "cm = confusion_matrix(y_test, y_pred)\n",
    "\n",
    "labels = sorted(df['positive_weekly_growth'].unique())\n",
    "sns.heatmap(\n",
    "    cm,\n",
    "    annot=True,\n",
    "    fmt='d',\n",
    "    cmap='Blues',\n",
    "    xticklabels=labels,\n",
    "    yticklabels=labels\n",
    ")\n",
    "\n",
    "plt.xlabel('Predicted')\n",
    "plt.ylabel('Actual')\n",
    "plt.title('Confusion Matrix')\n",
    "plt.show()"
   ]
  },
  {
   "cell_type": "code",
   "execution_count": 75,
   "id": "e49490fb",
   "metadata": {},
   "outputs": [
    {
     "data": {
      "image/png": "[encoded data removed]",
      "text/plain": [
       "<Figure size 800x600 with 1 Axes>"
      ]
     },
     "metadata": {},
     "output_type": "display_data"
    }
   ],
   "source": [
    "importances = grid_search.best_estimator_.feature_importances_\n",
    "features = X_train.columns\n",
    "feat_imp = pd.Series(importances, index=features).sort_values(ascending=False).head(20)\n",
    "\n",
    "plt.figure(figsize=(8,6))\n",
    "feat_imp.plot(kind='bar')\n",
    "plt.title('Top 20 Feature Importances')\n",
    "plt.ylabel('Importance')\n",
    "plt.show()"
   ]
  },
  {
   "cell_type": "code",
   "execution_count": 76,
   "id": "24417825",
   "metadata": {},
   "outputs": [
    {
     "data": {
      "image/png": "[encoded data removed]",
      "text/plain": [
       "<Figure size 640x480 with 1 Axes>"
      ]
     },
     "metadata": {},
     "output_type": "display_data"
    }
   ],
   "source": [
    "probs = grid_search.best_estimator_.predict_proba(X_test)[:, 1]\n",
    "plt.hist(probs, bins=20, edgecolor='k')\n",
    "plt.xlabel('Predicted probability for class=True')\n",
    "plt.ylabel('Frequency')\n",
    "plt.title('Prediction Probability Distribution')\n",
    "plt.show()"
   ]
  },
  {
   "cell_type": "code",
   "execution_count": null,
   "id": "2887d483",
   "metadata": {},
   "outputs": [],
   "source": [
    "# predict on a full dataset\n",
    "y_pred_all = best_rf.predict(df_model.drop(CATEGORICAL+TO_PREDICT+TO_DROP, axis=1))\n",
    "y_pred_all.shape"
   ]
  }
 ],
 "metadata": {
  "kernelspec": {
   "display_name": ".venv (3.12.10)",
   "language": "python",
   "name": "python3"
  },
  "language_info": {
   "codemirror_mode": {
    "name": "ipython",
    "version": 3
   },
   "file_extension": ".py",
   "mimetype": "text/x-python",
   "name": "python",
   "nbconvert_exporter": "python",
   "pygments_lexer": "ipython3",
   "version": "3.12.10"
  }
 },
 "nbformat": 4,
 "nbformat_minor": 5
}
