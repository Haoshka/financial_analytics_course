{
 "cells": [
  {
   "cell_type": "markdown",
   "id": "fec355a5",
   "metadata": {},
   "source": []
  },
  {
   "cell_type": "code",
   "execution_count": 1,
   "id": "b6ce65a4",
   "metadata": {},
   "outputs": [],
   "source": [
    "import pandas as pd\n",
    "import numpy as np"
   ]
  },
  {
   "cell_type": "code",
   "execution_count": 2,
   "id": "f23752ac",
   "metadata": {},
   "outputs": [
    {
     "data": {
      "text/html": [
       "<div>\n",
       "<style scoped>\n",
       "    .dataframe tbody tr th:only-of-type {\n",
       "        vertical-align: middle;\n",
       "    }\n",
       "\n",
       "    .dataframe tbody tr th {\n",
       "        vertical-align: top;\n",
       "    }\n",
       "\n",
       "    .dataframe thead th {\n",
       "        text-align: right;\n",
       "    }\n",
       "</style>\n",
       "<table border=\"1\" class=\"dataframe\">\n",
       "  <thead>\n",
       "    <tr style=\"text-align: right;\">\n",
       "      <th></th>\n",
       "      <th>date</th>\n",
       "      <th>ticker_stock</th>\n",
       "      <th>close_stock</th>\n",
       "      <th>positive_weekly_growth</th>\n",
       "      <th>prediction</th>\n",
       "    </tr>\n",
       "  </thead>\n",
       "  <tbody>\n",
       "    <tr>\n",
       "      <th>0</th>\n",
       "      <td>2021-01-01</td>\n",
       "      <td>MSTR</td>\n",
       "      <td>42.522</td>\n",
       "      <td>0.0</td>\n",
       "      <td>1.0</td>\n",
       "    </tr>\n",
       "    <tr>\n",
       "      <th>1</th>\n",
       "      <td>2021-01-01</td>\n",
       "      <td>WULF</td>\n",
       "      <td>9.450</td>\n",
       "      <td>1.0</td>\n",
       "      <td>0.0</td>\n",
       "    </tr>\n",
       "    <tr>\n",
       "      <th>2</th>\n",
       "      <td>2021-01-01</td>\n",
       "      <td>WULF</td>\n",
       "      <td>9.450</td>\n",
       "      <td>1.0</td>\n",
       "      <td>0.0</td>\n",
       "    </tr>\n",
       "    <tr>\n",
       "      <th>3</th>\n",
       "      <td>2021-01-02</td>\n",
       "      <td>MSTR</td>\n",
       "      <td>42.522</td>\n",
       "      <td>0.0</td>\n",
       "      <td>1.0</td>\n",
       "    </tr>\n",
       "    <tr>\n",
       "      <th>4</th>\n",
       "      <td>2021-01-02</td>\n",
       "      <td>WULF</td>\n",
       "      <td>9.450</td>\n",
       "      <td>1.0</td>\n",
       "      <td>0.0</td>\n",
       "    </tr>\n",
       "    <tr>\n",
       "      <th>...</th>\n",
       "      <td>...</td>\n",
       "      <td>...</td>\n",
       "      <td>...</td>\n",
       "      <td>...</td>\n",
       "      <td>...</td>\n",
       "    </tr>\n",
       "    <tr>\n",
       "      <th>22450</th>\n",
       "      <td>2025-08-31</td>\n",
       "      <td>WULF</td>\n",
       "      <td>9.450</td>\n",
       "      <td>1.0</td>\n",
       "      <td>1.0</td>\n",
       "    </tr>\n",
       "    <tr>\n",
       "      <th>22451</th>\n",
       "      <td>2025-08-31</td>\n",
       "      <td>WULF</td>\n",
       "      <td>9.450</td>\n",
       "      <td>1.0</td>\n",
       "      <td>1.0</td>\n",
       "    </tr>\n",
       "    <tr>\n",
       "      <th>22452</th>\n",
       "      <td>2025-09-01</td>\n",
       "      <td>WULF</td>\n",
       "      <td>9.450</td>\n",
       "      <td>1.0</td>\n",
       "      <td>1.0</td>\n",
       "    </tr>\n",
       "    <tr>\n",
       "      <th>22453</th>\n",
       "      <td>2025-09-01</td>\n",
       "      <td>WULF</td>\n",
       "      <td>9.450</td>\n",
       "      <td>1.0</td>\n",
       "      <td>1.0</td>\n",
       "    </tr>\n",
       "    <tr>\n",
       "      <th>22454</th>\n",
       "      <td>2025-09-01</td>\n",
       "      <td>WULF</td>\n",
       "      <td>9.450</td>\n",
       "      <td>1.0</td>\n",
       "      <td>1.0</td>\n",
       "    </tr>\n",
       "  </tbody>\n",
       "</table>\n",
       "<p>22455 rows × 5 columns</p>\n",
       "</div>"
      ],
      "text/plain": [
       "             date ticker_stock  close_stock  positive_weekly_growth  \\\n",
       "0      2021-01-01         MSTR       42.522                     0.0   \n",
       "1      2021-01-01         WULF        9.450                     1.0   \n",
       "2      2021-01-01         WULF        9.450                     1.0   \n",
       "3      2021-01-02         MSTR       42.522                     0.0   \n",
       "4      2021-01-02         WULF        9.450                     1.0   \n",
       "...           ...          ...          ...                     ...   \n",
       "22450  2025-08-31         WULF        9.450                     1.0   \n",
       "22451  2025-08-31         WULF        9.450                     1.0   \n",
       "22452  2025-09-01         WULF        9.450                     1.0   \n",
       "22453  2025-09-01         WULF        9.450                     1.0   \n",
       "22454  2025-09-01         WULF        9.450                     1.0   \n",
       "\n",
       "       prediction  \n",
       "0             1.0  \n",
       "1             0.0  \n",
       "2             0.0  \n",
       "3             1.0  \n",
       "4             0.0  \n",
       "...           ...  \n",
       "22450         1.0  \n",
       "22451         1.0  \n",
       "22452         1.0  \n",
       "22453         1.0  \n",
       "22454         1.0  \n",
       "\n",
       "[22455 rows x 5 columns]"
      ]
     },
     "execution_count": 2,
     "metadata": {},
     "output_type": "execute_result"
    }
   ],
   "source": [
    "df = pd.read_csv(\"df_prd_outcome.csv\")\n",
    "df"
   ]
  },
  {
   "cell_type": "code",
   "execution_count": 3,
   "id": "793bbef9",
   "metadata": {},
   "outputs": [],
   "source": [
    "def simulation(\n",
    "    df,\n",
    "    initial_capital=10_000,\n",
    "    transaction_fee=0.01,\n",
    "    stop_loss=-0.10,\n",
    "    take_profit=0.10,\n",
    "    allocation_per_trade=0.2,  # fraction of available cash per trade\n",
    "):\n",
    "    \"\"\"\n",
    "    Multi-ticker trading simulation with stop-loss, take-profit, and partial allocation.\n",
    "    NOTE: Predictions are only used for entry, not exit. Exit happens only on SL/TP.\n",
    "    \"\"\"\n",
    "\n",
    "    # --- Preprocess ---\n",
    "    df = df.drop_duplicates(subset=[\"date\", \"ticker_stock\"])  # remove duplicates\n",
    "    df = df.sort_values(by=[\"date\", \"ticker_stock\"]).reset_index(drop=True)\n",
    "\n",
    "    cash = initial_capital\n",
    "    positions = {}  # ticker -> {\"buy_price\":..., \"shares\":..., \"buy_date\":...}\n",
    "    history = []\n",
    "    trades = []\n",
    "\n",
    "    # Ensure date is datetime\n",
    "    df[\"date\"] = pd.to_datetime(df[\"date\"])\n",
    "    start_date, end_date = df[\"date\"].min(), df[\"date\"].max()\n",
    "    n_days = (end_date - start_date).days or 1\n",
    "\n",
    "    for date, day_data in df.groupby(\"date\"):\n",
    "        # --- Check existing positions for SL/TP exit conditions ---\n",
    "        for ticker in list(positions.keys()):\n",
    "            price = day_data.loc[day_data[\"ticker_stock\"] == ticker, \"close_stock\"]\n",
    "            if price.empty:\n",
    "                continue\n",
    "            price = price.iloc[0]\n",
    "            pos = positions[ticker]\n",
    "            pnl_pct = (price - pos[\"buy_price\"]) / pos[\"buy_price\"]\n",
    "\n",
    "            # Only exit on SL or TP, ignore prediction flips\n",
    "            if pnl_pct <= stop_loss or pnl_pct >= take_profit:\n",
    "                sell_value = pos[\"shares\"] * price\n",
    "                sell_value_after_fee = sell_value * (1 - transaction_fee)\n",
    "                cash += sell_value_after_fee\n",
    "\n",
    "                trades.append({\n",
    "                    \"ticker\": ticker,\n",
    "                    \"buy_date\": pos[\"buy_date\"],\n",
    "                    \"sell_date\": date,\n",
    "                    \"buy_price\": pos[\"buy_price\"],\n",
    "                    \"sell_price\": price,\n",
    "                    \"shares\": pos[\"shares\"],\n",
    "                    \"pnl_pct\": pnl_pct,\n",
    "                    \"pnl_value\": sell_value_after_fee - (pos[\"shares\"] * pos[\"buy_price\"])\n",
    "                })\n",
    "\n",
    "                del positions[ticker]\n",
    "\n",
    "        # --- Open new positions where prediction == 1 and we don't already hold ---\n",
    "        for _, row in day_data.iterrows():\n",
    "            ticker, price, pred = row[\"ticker_stock\"], row[\"close_stock\"], row[\"prediction\"]\n",
    "            if pred == 1 and ticker not in positions and cash > 0:\n",
    "                invest_amount = cash * allocation_per_trade\n",
    "                if invest_amount > 0:\n",
    "                    invest_amount_after_fee = invest_amount * (1 - transaction_fee)\n",
    "                    shares = invest_amount_after_fee / price\n",
    "                    positions[ticker] = {\"buy_price\": price, \"shares\": shares, \"buy_date\": date}\n",
    "                    cash -= invest_amount  # reserve cash\n",
    "\n",
    "        # --- Calculate equity ---\n",
    "        position_value = sum(pos[\"shares\"] * day_data.loc[day_data[\"ticker_stock\"] == t, \"close_stock\"].iloc[0]\n",
    "                             for t, pos in positions.items() if t in day_data[\"ticker_stock\"].values)\n",
    "        equity = cash + position_value\n",
    "\n",
    "        history.append({\"date\": date, \"cash\": cash, \"position_value\": position_value, \"total_equity\": equity})\n",
    "\n",
    "    portfolio_history = pd.DataFrame(history)\n",
    "    trades_df = pd.DataFrame(trades)\n",
    "\n",
    "    # --- Performance Metrics ---\n",
    "    final_value = portfolio_history[\"total_equity\"].iloc[-1]\n",
    "    total_return = (final_value / initial_capital - 1) * 100\n",
    "    cagr = ((final_value / initial_capital) ** (365 / n_days) - 1) * 100\n",
    "\n",
    "    rolling_max = portfolio_history[\"total_equity\"].cummax()\n",
    "    drawdown = (portfolio_history[\"total_equity\"] - rolling_max) / rolling_max\n",
    "    max_drawdown = drawdown.min() * 100\n",
    "\n",
    "    win_rate = (trades_df[\"pnl_value\"] > 0).mean() * 100 if not trades_df.empty else 0\n",
    "    num_trades = len(trades_df)\n",
    "\n",
    "    metrics = {\n",
    "        \"Final Portfolio Value\": f\"${final_value:,.2f}\",\n",
    "        \"Total Return\": f\"{total_return:.2f}%\",\n",
    "        \"CAGR\": f\"{cagr:.2f}%\",\n",
    "        \"Max Drawdown\": f\"{max_drawdown:.2f}%\",\n",
    "        \"Win Rate\": f\"{win_rate:.2f}%\",\n",
    "        \"Number of Trades\": num_trades,\n",
    "    }\n",
    "\n",
    "    return portfolio_history, trades_df, metrics\n"
   ]
  },
  {
   "cell_type": "code",
   "execution_count": 5,
   "id": "6fae4447",
   "metadata": {},
   "outputs": [],
   "source": [
    "portfolio_history, trades_df, metrics = simulation(df)"
   ]
  },
  {
   "cell_type": "code",
   "execution_count": 6,
   "id": "5647a2ec",
   "metadata": {},
   "outputs": [
    {
     "name": "stdout",
     "output_type": "stream",
     "text": [
      "{'Final Portfolio Value': '$1,392.71', 'Total Return': '-86.07%', 'CAGR': '-34.44%', 'Max Drawdown': '-93.90%', 'Win Rate': '52.09%', 'Number of Trades': 837}\n"
     ]
    }
   ],
   "source": [
    "print(metrics)"
   ]
  },
  {
   "cell_type": "code",
   "execution_count": 7,
   "id": "1ae9c493",
   "metadata": {},
   "outputs": [],
   "source": [
    "import matplotlib.pyplot as plt\n",
    "import seaborn as sns"
   ]
  },
  {
   "cell_type": "code",
   "execution_count": 11,
   "id": "94db7515",
   "metadata": {},
   "outputs": [
    {
     "data": {
      "image/png": "[encoded data removed]",
      "text/plain": [
       "<Figure size 640x480 with 1 Axes>"
      ]
     },
     "metadata": {},
     "output_type": "display_data"
    }
   ],
   "source": [
    "sns.lineplot(data=portfolio_history, x='date', y='total_equity')\n",
    "plt.title('Portfolio Value Over Time')\n",
    "plt.show()"
   ]
  },
  {
   "cell_type": "code",
   "execution_count": null,
   "id": "8a256bb1",
   "metadata": {},
   "outputs": [],
   "source": [
    "import itertools"
   ]
  },
  {
   "cell_type": "code",
   "execution_count": 16,
   "id": "92ab4c55",
   "metadata": {},
   "outputs": [],
   "source": [
    "def optimize_parameters(\n",
    "    df,\n",
    "    initial_capital=10000,\n",
    "    transaction_fee=1.0,\n",
    "    stop_losses=[-0.30, -0.20, -0.10],\n",
    "    take_profits=[0.10, 0.20, 0.30],\n",
    "    allocation_per_trade=[0.05, 0.10, 0.15],  # now supports multiple values\n",
    "):\n",
    "    \"\"\"\n",
    "    Grid search optimization over stop-loss, take-profit, and allocation parameters.\n",
    "\n",
    "    Parameters\n",
    "    ----------\n",
    "    df : pd.DataFrame\n",
    "        Dataset with ['date','ticker_stock','close_stock','prediction']\n",
    "    initial_capital : float\n",
    "        Starting portfolio capital.\n",
    "    transaction_fee : float\n",
    "        Trading fee (percentage, e.g. 1.0 means 1%).\n",
    "    stop_losses : list\n",
    "        List of stop-loss thresholds (negative values).\n",
    "    take_profits : list\n",
    "        List of take-profit thresholds (positive values).\n",
    "    allocation_per_trade : list\n",
    "        List of allocation fractions to test (e.g. [0.05, 0.10, 0.15]).\n",
    "\n",
    "    Returns\n",
    "    -------\n",
    "    results_df : pd.DataFrame\n",
    "        Results of all parameter combinations sorted by Final Portfolio Value.\n",
    "    best_params : dict\n",
    "        Parameters (stop_loss, take_profit, allocation_per_trade) that produced best performance.\n",
    "    \"\"\"\n",
    "\n",
    "    results = []\n",
    "    fee_decimal = transaction_fee / 100 if transaction_fee > 1 else transaction_fee\n",
    "\n",
    "    # loop over all parameter combinations\n",
    "    for sl, tp, alloc in itertools.product(stop_losses, take_profits, allocation_per_trade):\n",
    "        portfolio_history, trades_df, metrics = simulation(\n",
    "            df,\n",
    "            initial_capital=initial_capital,\n",
    "            transaction_fee=fee_decimal,\n",
    "            stop_loss=sl,\n",
    "            take_profit=tp,\n",
    "            allocation_per_trade=alloc,\n",
    "        )\n",
    "\n",
    "        results.append({\n",
    "            \"stop_loss\": sl,\n",
    "            \"take_profit\": tp,\n",
    "            \"allocation_per_trade\": alloc,\n",
    "            \"final_portfolio_value\": float(metrics[\"Final Portfolio Value\"].replace(\"$\",\"\").replace(\",\",\"\")),\n",
    "            \"total_return\": float(metrics[\"Total Return\"].replace(\"%\",\"\")),\n",
    "            \"CAGR\": float(metrics[\"CAGR\"].replace(\"%\",\"\")),\n",
    "            \"max_drawdown\": float(metrics[\"Max Drawdown\"].replace(\"%\",\"\")),\n",
    "            \"win_rate\": float(metrics[\"Win Rate\"].replace(\"%\",\"\")),\n",
    "            \"number_of_trades\": metrics[\"Number of Trades\"],\n",
    "        })\n",
    "\n",
    "    results_df = pd.DataFrame(results)\n",
    "    results_df = results_df.sort_values(by=\"final_portfolio_value\", ascending=False).reset_index(drop=True)\n",
    "\n",
    "    best_params = results_df.iloc[0][[\"stop_loss\", \"take_profit\", \"allocation_per_trade\"]].to_dict()\n",
    "\n",
    "    return results_df, best_params\n"
   ]
  },
  {
   "cell_type": "code",
   "execution_count": 17,
   "id": "2a6933dd",
   "metadata": {},
   "outputs": [
    {
     "name": "stdout",
     "output_type": "stream",
     "text": [
      "{'stop_loss': -0.3, 'take_profit': 0.3, 'allocation_per_trade': 0.05}\n"
     ]
    }
   ],
   "source": [
    "results_df, best_params = optimize_parameters(df)\n",
    "print(best_params)"
   ]
  },
  {
   "cell_type": "code",
   "execution_count": 19,
   "id": "3c638bc4",
   "metadata": {},
   "outputs": [],
   "source": [
    "portfolio_history, trades_df, metrics = simulation(df, stop_loss=-0.30, take_profit=0.30, allocation_per_trade=0.05)"
   ]
  },
  {
   "cell_type": "code",
   "execution_count": 20,
   "id": "65945bd3",
   "metadata": {},
   "outputs": [
    {
     "data": {
      "text/plain": [
       "{'Final Portfolio Value': '$11,348.87',\n",
       " 'Total Return': '13.49%',\n",
       " 'CAGR': '2.75%',\n",
       " 'Max Drawdown': '-47.79%',\n",
       " 'Win Rate': '57.01%',\n",
       " 'Number of Trades': 214}"
      ]
     },
     "execution_count": 20,
     "metadata": {},
     "output_type": "execute_result"
    }
   ],
   "source": [
    "metrics"
   ]
  },
  {
   "cell_type": "code",
   "execution_count": 21,
   "id": "447ca3fe",
   "metadata": {},
   "outputs": [
    {
     "data": {
      "image/png": "[encoded data removed]",
      "text/plain": [
       "<Figure size 640x480 with 1 Axes>"
      ]
     },
     "metadata": {},
     "output_type": "display_data"
    }
   ],
   "source": [
    "sns.lineplot(data=portfolio_history, x='date', y='total_equity')\n",
    "plt.title('Portfolio Value Over Time')\n",
    "plt.show()"
   ]
  }
 ],
 "metadata": {
  "kernelspec": {
   "display_name": ".venv (3.12.10)",
   "language": "python",
   "name": "python3"
  },
  "language_info": {
   "codemirror_mode": {
    "name": "ipython",
    "version": 3
   },
   "file_extension": ".py",
   "mimetype": "text/x-python",
   "name": "python",
   "nbconvert_exporter": "python",
   "pygments_lexer": "ipython3",
   "version": "3.12.10"
  }
 },
 "nbformat": 4,
 "nbformat_minor": 5
}
